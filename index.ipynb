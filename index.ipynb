{
 "cells": [
  {
   "cell_type": "markdown",
   "metadata": {},
   "source": [
    "# Evaluating Regression Lines Lab"
   ]
  },
  {
   "cell_type": "markdown",
   "metadata": {},
   "source": [
    "### Introduction"
   ]
  },
  {
   "cell_type": "markdown",
   "metadata": {},
   "source": [
    "In the previous lesson, we learned to evaluate how well a regression line estimated our actual data.  In this lab, we will turn these formulas into code.  In doing so, we'll build lots of useful functions for both calculating and displaying our errors for a given regression line and dataset."
   ]
  },
  {
   "cell_type": "markdown",
   "metadata": {},
   "source": [
    "> In moving through this lab, we'll access to the functions that we previously built out to plot our data, available in the [graph](https://github.com/learn-co-curriculum/evaluating-regression-lines-lab/blob/master/graph.py) here."
   ]
  },
  {
   "cell_type": "markdown",
   "metadata": {},
   "source": [
    "### Determining Quality"
   ]
  },
  {
   "cell_type": "markdown",
   "metadata": {},
   "source": [
    "In the file, `movie_data.py` you will find movie data written as a python list of dictionaries, with each dictionary representing a movie.  The movies are derived from the first 30 entries from the dataset containing 538 movies [provided here](https://raw.githubusercontent.com/fivethirtyeight/data/master/bechdel/movies.csv)."
   ]
  },
  {
   "cell_type": "code",
   "execution_count": 1,
   "metadata": {
    "scrolled": true
   },
   "outputs": [
    {
     "data": {
      "text/plain": [
       "30"
      ]
     },
     "execution_count": 1,
     "metadata": {},
     "output_type": "execute_result"
    }
   ],
   "source": [
    "from movie_data import movies \n",
    "len(movies)"
   ]
  },
  {
   "cell_type": "markdown",
   "metadata": {},
   "source": [
    "> Press shift + enter"
   ]
  },
  {
   "cell_type": "code",
   "execution_count": 2,
   "metadata": {
    "scrolled": true
   },
   "outputs": [
    {
     "data": {
      "text/plain": [
       "{'budget': 13000000, 'domgross': 25682380.0, 'title': '21 &amp; Over'}"
      ]
     },
     "execution_count": 2,
     "metadata": {},
     "output_type": "execute_result"
    }
   ],
   "source": [
    "movies[0]"
   ]
  },
  {
   "cell_type": "code",
   "execution_count": 3,
   "metadata": {},
   "outputs": [
    {
     "data": {
      "text/plain": [
       "13.0"
      ]
     },
     "execution_count": 3,
     "metadata": {},
     "output_type": "execute_result"
    }
   ],
   "source": [
    "movies[0]['budget']/1000000"
   ]
  },
  {
   "cell_type": "markdown",
   "metadata": {},
   "source": [
    "The numbers are in millions, so we will simplify things by dividing everything by a million"
   ]
  },
  {
   "cell_type": "code",
   "execution_count": 4,
   "metadata": {},
   "outputs": [
    {
     "data": {
      "text/plain": [
       "{'title': '21 &amp; Over', 'budget': 13.0, 'domgross': 26.0}"
      ]
     },
     "execution_count": 4,
     "metadata": {},
     "output_type": "execute_result"
    }
   ],
   "source": [
    "scaled_movies = list(map(lambda movie: {'title': movie['title'], 'budget': round(movie['budget']/1000000, 0), 'domgross': round(movie['domgross']/1000000, 0)}, movies))\n",
    "scaled_movies[0]"
   ]
  },
  {
   "cell_type": "markdown",
   "metadata": {
    "collapsed": true
   },
   "source": [
    "Note that, like in previous lessons, the budget is our explanatory value and the revenue is our dependent variable.  Here revenue is represented as the key `domgross`.  \n",
    "\n",
    "#### Plotting our data\n",
    "\n",
    "Let's write the code to plot this data set.\n",
    "\n",
    "As a first task, convert the budget values of our `scaled_movies` to `x_values`, and convert the domgross values of the `scaled_movies` to `y_values`."
   ]
  },
  {
   "cell_type": "code",
   "execution_count": 5,
   "metadata": {},
   "outputs": [],
   "source": [
    "x_values = list(map(lambda movie: movie['budget'], scaled_movies))\n",
    "y_values = list(map(lambda movie: movie['domgross'], scaled_movies))"
   ]
  },
  {
   "cell_type": "code",
   "execution_count": 31,
   "metadata": {},
   "outputs": [
    {
     "data": {
      "text/plain": [
       "[13.0,\n",
       " 46.0,\n",
       " 20.0,\n",
       " 61.0,\n",
       " 40.0,\n",
       " 225.0,\n",
       " 92.0,\n",
       " 12.0,\n",
       " 130.0,\n",
       " 25.0,\n",
       " 50.0,\n",
       " 18.0,\n",
       " 55.0,\n",
       " 30.0,\n",
       " 78.0,\n",
       " 76.0,\n",
       " 6.0,\n",
       " 120.0,\n",
       " 110.0,\n",
       " 100.0,\n",
       " 70.0,\n",
       " 17.0,\n",
       " 160.0,\n",
       " 150.0,\n",
       " 140.0,\n",
       " 60.0,\n",
       " 80.0,\n",
       " 23.0,\n",
       " 35.0,\n",
       " 200.0]"
      ]
     },
     "execution_count": 31,
     "metadata": {},
     "output_type": "execute_result"
    }
   ],
   "source": [
    "x_values #and x_values[0] # 13.0"
   ]
  },
  {
   "cell_type": "code",
   "execution_count": 32,
   "metadata": {},
   "outputs": [
    {
     "data": {
      "text/plain": [
       "[26.0,\n",
       " 13.0,\n",
       " 53.0,\n",
       " 76.0,\n",
       " 95.0,\n",
       " 38.0,\n",
       " 67.0,\n",
       " 15.0,\n",
       " 61.0,\n",
       " 37.0,\n",
       " 19.0,\n",
       " 33.0,\n",
       " 107.0,\n",
       " 35.0,\n",
       " 120.0,\n",
       " 368.0,\n",
       " 24.0,\n",
       " 93.0,\n",
       " 62.0,\n",
       " 108.0,\n",
       " 25.0,\n",
       " 54.0,\n",
       " 239.0,\n",
       " 393.0,\n",
       " 123.0,\n",
       " 46.0,\n",
       " 134.0,\n",
       " 25.0,\n",
       " 135.0,\n",
       " 409.0]"
      ]
     },
     "execution_count": 32,
     "metadata": {},
     "output_type": "execute_result"
    }
   ],
   "source": [
    "y_values #and y_values[0] # 26.0"
   ]
  },
  {
   "cell_type": "markdown",
   "metadata": {},
   "source": [
    "Assign a variable called `titles` equal to the titles of the movies."
   ]
  },
  {
   "cell_type": "code",
   "execution_count": 8,
   "metadata": {},
   "outputs": [],
   "source": [
    "titles = list(map(lambda movie: movie['title'], scaled_movies))"
   ]
  },
  {
   "cell_type": "code",
   "execution_count": 9,
   "metadata": {},
   "outputs": [
    {
     "data": {
      "text/plain": [
       "'21 &amp; Over'"
      ]
     },
     "execution_count": 9,
     "metadata": {},
     "output_type": "execute_result"
    }
   ],
   "source": [
    "titles and titles[0]"
   ]
  },
  {
   "cell_type": "markdown",
   "metadata": {},
   "source": [
    "Great! Now we have the data necessary to make a trace of our data."
   ]
  },
  {
   "cell_type": "code",
   "execution_count": 10,
   "metadata": {},
   "outputs": [
    {
     "data": {
      "text/html": [
       "<script>requirejs.config({paths: { 'plotly': ['https://cdn.plot.ly/plotly-latest.min']},});if(!window.Plotly) {{require(['plotly'],function(plotly) {window.Plotly=plotly;});}}</script>"
      ],
      "text/vnd.plotly.v1+html": [
       "<script>requirejs.config({paths: { 'plotly': ['https://cdn.plot.ly/plotly-latest.min']},});if(!window.Plotly) {{require(['plotly'],function(plotly) {window.Plotly=plotly;});}}</script>"
      ]
     },
     "metadata": {},
     "output_type": "display_data"
    },
    {
     "data": {
      "text/html": [
       "<script>requirejs.config({paths: { 'plotly': ['https://cdn.plot.ly/plotly-latest.min']},});if(!window.Plotly) {{require(['plotly'],function(plotly) {window.Plotly=plotly;});}}</script>"
      ],
      "text/vnd.plotly.v1+html": [
       "<script>requirejs.config({paths: { 'plotly': ['https://cdn.plot.ly/plotly-latest.min']},});if(!window.Plotly) {{require(['plotly'],function(plotly) {window.Plotly=plotly;});}}</script>"
      ]
     },
     "metadata": {},
     "output_type": "display_data"
    },
    {
     "data": {
      "application/vnd.plotly.v1+json": {
       "data": [
        {
         "mode": "markers",
         "name": "movie data",
         "text": [
          "21 &amp; Over",
          "Dredd 3D",
          "12 Years a Slave",
          "2 Guns",
          "42",
          "47 Ronin",
          "A Good Day to Die Hard",
          "About Time",
          "After Earth",
          "August: Osage County",
          "Beautiful Creatures",
          "Blue Jasmine",
          "Captain Phillips",
          "Carrie",
          "Cloudy with a Chance of Meatballs 2",
          "Despicable Me 2",
          "Don Jon",
          "Elysium",
          "Ender&#39;s Game",
          "Epic",
          "Escape Plan",
          "Evil Dead",
          "Fast and Furious 6",
          "Frozen",
          "G.I. Joe: Retaliation",
          "Gangster Squad",
          "Grown Ups",
          "Her",
          "Identity Thief",
          "Iron Man 3"
         ],
         "type": "scatter",
         "uid": "da92c458-5bd4-11e9-987d-373b1f4a120b",
         "x": [
          13,
          46,
          20,
          61,
          40,
          225,
          92,
          12,
          130,
          25,
          50,
          18,
          55,
          30,
          78,
          76,
          6,
          120,
          110,
          100,
          70,
          17,
          160,
          150,
          140,
          60,
          80,
          23,
          35,
          200
         ],
         "y": [
          26,
          13,
          53,
          76,
          95,
          38,
          67,
          15,
          61,
          37,
          19,
          33,
          107,
          35,
          120,
          368,
          24,
          93,
          62,
          108,
          25,
          54,
          239,
          393,
          123,
          46,
          134,
          25,
          135,
          409
         ]
        }
       ],
       "layout": {}
      },
      "text/html": [
       "<div id=\"0e156f1d-fdfc-459c-a3db-6b6e5d71c6e7\" style=\"height: 525px; width: 100%;\" class=\"plotly-graph-div\"></div><script type=\"text/javascript\">require([\"plotly\"], function(Plotly) { window.PLOTLYENV=window.PLOTLYENV || {};window.PLOTLYENV.BASE_URL=\"https://plot.ly\";Plotly.newPlot(\"0e156f1d-fdfc-459c-a3db-6b6e5d71c6e7\", [{\"mode\": \"markers\", \"name\": \"movie data\", \"text\": [\"21 &amp; Over\", \"Dredd 3D\", \"12 Years a Slave\", \"2 Guns\", \"42\", \"47 Ronin\", \"A Good Day to Die Hard\", \"About Time\", \"After Earth\", \"August: Osage County\", \"Beautiful Creatures\", \"Blue Jasmine\", \"Captain Phillips\", \"Carrie\", \"Cloudy with a Chance of Meatballs 2\", \"Despicable Me 2\", \"Don Jon\", \"Elysium\", \"Ender&#39;s Game\", \"Epic\", \"Escape Plan\", \"Evil Dead\", \"Fast and Furious 6\", \"Frozen\", \"G.I. Joe: Retaliation\", \"Gangster Squad\", \"Grown Ups\", \"Her\", \"Identity Thief\", \"Iron Man 3\"], \"x\": [13.0, 46.0, 20.0, 61.0, 40.0, 225.0, 92.0, 12.0, 130.0, 25.0, 50.0, 18.0, 55.0, 30.0, 78.0, 76.0, 6.0, 120.0, 110.0, 100.0, 70.0, 17.0, 160.0, 150.0, 140.0, 60.0, 80.0, 23.0, 35.0, 200.0], \"y\": [26.0, 13.0, 53.0, 76.0, 95.0, 38.0, 67.0, 15.0, 61.0, 37.0, 19.0, 33.0, 107.0, 35.0, 120.0, 368.0, 24.0, 93.0, 62.0, 108.0, 25.0, 54.0, 239.0, 393.0, 123.0, 46.0, 134.0, 25.0, 135.0, 409.0], \"type\": \"scatter\", \"uid\": \"daa8cfa0-5bd4-11e9-987d-373b1f4a120b\"}], {}, {\"showLink\": true, \"linkText\": \"Export to plot.ly\"})});</script>"
      ],
      "text/vnd.plotly.v1+html": [
       "<div id=\"0e156f1d-fdfc-459c-a3db-6b6e5d71c6e7\" style=\"height: 525px; width: 100%;\" class=\"plotly-graph-div\"></div><script type=\"text/javascript\">require([\"plotly\"], function(Plotly) { window.PLOTLYENV=window.PLOTLYENV || {};window.PLOTLYENV.BASE_URL=\"https://plot.ly\";Plotly.newPlot(\"0e156f1d-fdfc-459c-a3db-6b6e5d71c6e7\", [{\"mode\": \"markers\", \"name\": \"movie data\", \"text\": [\"21 &amp; Over\", \"Dredd 3D\", \"12 Years a Slave\", \"2 Guns\", \"42\", \"47 Ronin\", \"A Good Day to Die Hard\", \"About Time\", \"After Earth\", \"August: Osage County\", \"Beautiful Creatures\", \"Blue Jasmine\", \"Captain Phillips\", \"Carrie\", \"Cloudy with a Chance of Meatballs 2\", \"Despicable Me 2\", \"Don Jon\", \"Elysium\", \"Ender&#39;s Game\", \"Epic\", \"Escape Plan\", \"Evil Dead\", \"Fast and Furious 6\", \"Frozen\", \"G.I. Joe: Retaliation\", \"Gangster Squad\", \"Grown Ups\", \"Her\", \"Identity Thief\", \"Iron Man 3\"], \"x\": [13.0, 46.0, 20.0, 61.0, 40.0, 225.0, 92.0, 12.0, 130.0, 25.0, 50.0, 18.0, 55.0, 30.0, 78.0, 76.0, 6.0, 120.0, 110.0, 100.0, 70.0, 17.0, 160.0, 150.0, 140.0, 60.0, 80.0, 23.0, 35.0, 200.0], \"y\": [26.0, 13.0, 53.0, 76.0, 95.0, 38.0, 67.0, 15.0, 61.0, 37.0, 19.0, 33.0, 107.0, 35.0, 120.0, 368.0, 24.0, 93.0, 62.0, 108.0, 25.0, 54.0, 239.0, 393.0, 123.0, 46.0, 134.0, 25.0, 135.0, 409.0], \"type\": \"scatter\", \"uid\": \"daa8cfa0-5bd4-11e9-987d-373b1f4a120b\"}], {}, {\"showLink\": true, \"linkText\": \"Export to plot.ly\"})});</script>"
      ]
     },
     "metadata": {},
     "output_type": "display_data"
    }
   ],
   "source": [
    "from plotly.offline import iplot, init_notebook_mode\n",
    "init_notebook_mode(connected=True)\n",
    "from graph import trace_values, plot\n",
    "\n",
    "movies_trace = trace_values(x_values, y_values, text=titles, name='movie data')\n",
    "\n",
    "plot([movies_trace])"
   ]
  },
  {
   "cell_type": "markdown",
   "metadata": {},
   "source": [
    "#### Plotting a regression line"
   ]
  },
  {
   "cell_type": "markdown",
   "metadata": {},
   "source": [
    "Now let's add a regression line to make a prediction of output (revenue) based on an input (the budget).  We'll use the following regression formula:"
   ]
  },
  {
   "cell_type": "markdown",
   "metadata": {},
   "source": [
    "* $\\hat{y} = m x + b$, with $m = 1.7$, and $b = 10$. \n",
    "\n",
    "\n",
    "* $\\hat{y} = 1.7x + 10$\n",
    "\n",
    "Write a function called `regression_formula` that calculates our $\\hat{y}$ for any provided value of $x$. "
   ]
  },
  {
   "cell_type": "code",
   "execution_count": 12,
   "metadata": {},
   "outputs": [],
   "source": [
    "def regression_formula(x):\n",
    "    return 1.7*x + 10"
   ]
  },
  {
   "cell_type": "markdown",
   "metadata": {},
   "source": [
    "Check to see that the regression formula generates the correct outputs."
   ]
  },
  {
   "cell_type": "code",
   "execution_count": 13,
   "metadata": {},
   "outputs": [
    {
     "data": {
      "text/plain": [
       "435.0"
      ]
     },
     "execution_count": 13,
     "metadata": {},
     "output_type": "execute_result"
    }
   ],
   "source": [
    "regression_formula(100) # 180.0\n",
    "regression_formula(250) # 435.0"
   ]
  },
  {
   "cell_type": "markdown",
   "metadata": {},
   "source": [
    "Let's plot the data as well as the regression line to get a sense of what we are looking at."
   ]
  },
  {
   "cell_type": "code",
   "execution_count": 14,
   "metadata": {},
   "outputs": [
    {
     "data": {
      "text/html": [
       "<script>requirejs.config({paths: { 'plotly': ['https://cdn.plot.ly/plotly-latest.min']},});if(!window.Plotly) {{require(['plotly'],function(plotly) {window.Plotly=plotly;});}}</script>"
      ],
      "text/vnd.plotly.v1+html": [
       "<script>requirejs.config({paths: { 'plotly': ['https://cdn.plot.ly/plotly-latest.min']},});if(!window.Plotly) {{require(['plotly'],function(plotly) {window.Plotly=plotly;});}}</script>"
      ]
     },
     "metadata": {},
     "output_type": "display_data"
    },
    {
     "data": {
      "application/vnd.plotly.v1+json": {
       "data": [
        {
         "mode": "markers",
         "name": "movie data",
         "text": [
          "21 &amp; Over",
          "Dredd 3D",
          "12 Years a Slave",
          "2 Guns",
          "42",
          "47 Ronin",
          "A Good Day to Die Hard",
          "About Time",
          "After Earth",
          "August: Osage County",
          "Beautiful Creatures",
          "Blue Jasmine",
          "Captain Phillips",
          "Carrie",
          "Cloudy with a Chance of Meatballs 2",
          "Despicable Me 2",
          "Don Jon",
          "Elysium",
          "Ender&#39;s Game",
          "Epic",
          "Escape Plan",
          "Evil Dead",
          "Fast and Furious 6",
          "Frozen",
          "G.I. Joe: Retaliation",
          "Gangster Squad",
          "Grown Ups",
          "Her",
          "Identity Thief",
          "Iron Man 3"
         ],
         "type": "scatter",
         "uid": "ef8d8c1c-5bd4-11e9-987d-373b1f4a120b",
         "x": [
          13,
          46,
          20,
          61,
          40,
          225,
          92,
          12,
          130,
          25,
          50,
          18,
          55,
          30,
          78,
          76,
          6,
          120,
          110,
          100,
          70,
          17,
          160,
          150,
          140,
          60,
          80,
          23,
          35,
          200
         ],
         "y": [
          26,
          13,
          53,
          76,
          95,
          38,
          67,
          15,
          61,
          37,
          19,
          33,
          107,
          35,
          120,
          368,
          24,
          93,
          62,
          108,
          25,
          54,
          239,
          393,
          123,
          46,
          134,
          25,
          135,
          409
         ]
        },
        {
         "mode": "lines",
         "name": "estimated revenue",
         "type": "scatter",
         "uid": "ef8d8d52-5bd4-11e9-987d-373b1f4a120b",
         "x": [
          13,
          46,
          20,
          61,
          40,
          225,
          92,
          12,
          130,
          25,
          50,
          18,
          55,
          30,
          78,
          76,
          6,
          120,
          110,
          100,
          70,
          17,
          160,
          150,
          140,
          60,
          80,
          23,
          35,
          200
         ],
         "y": [
          32.099999999999994,
          88.2,
          44,
          113.7,
          78,
          392.5,
          166.4,
          30.4,
          231,
          52.5,
          95,
          40.599999999999994,
          103.5,
          61,
          142.6,
          139.2,
          20.2,
          214,
          197,
          180,
          129,
          38.9,
          282,
          265,
          248,
          112,
          146,
          49.1,
          69.5,
          350
         ]
        }
       ],
       "layout": {}
      },
      "text/html": [
       "<div id=\"e06410a3-fd30-451d-9cf9-7e0fb6d33d68\" style=\"height: 525px; width: 100%;\" class=\"plotly-graph-div\"></div><script type=\"text/javascript\">require([\"plotly\"], function(Plotly) { window.PLOTLYENV=window.PLOTLYENV || {};window.PLOTLYENV.BASE_URL=\"https://plot.ly\";Plotly.newPlot(\"e06410a3-fd30-451d-9cf9-7e0fb6d33d68\", [{\"mode\": \"markers\", \"name\": \"movie data\", \"text\": [\"21 &amp; Over\", \"Dredd 3D\", \"12 Years a Slave\", \"2 Guns\", \"42\", \"47 Ronin\", \"A Good Day to Die Hard\", \"About Time\", \"After Earth\", \"August: Osage County\", \"Beautiful Creatures\", \"Blue Jasmine\", \"Captain Phillips\", \"Carrie\", \"Cloudy with a Chance of Meatballs 2\", \"Despicable Me 2\", \"Don Jon\", \"Elysium\", \"Ender&#39;s Game\", \"Epic\", \"Escape Plan\", \"Evil Dead\", \"Fast and Furious 6\", \"Frozen\", \"G.I. Joe: Retaliation\", \"Gangster Squad\", \"Grown Ups\", \"Her\", \"Identity Thief\", \"Iron Man 3\"], \"x\": [13.0, 46.0, 20.0, 61.0, 40.0, 225.0, 92.0, 12.0, 130.0, 25.0, 50.0, 18.0, 55.0, 30.0, 78.0, 76.0, 6.0, 120.0, 110.0, 100.0, 70.0, 17.0, 160.0, 150.0, 140.0, 60.0, 80.0, 23.0, 35.0, 200.0], \"y\": [26.0, 13.0, 53.0, 76.0, 95.0, 38.0, 67.0, 15.0, 61.0, 37.0, 19.0, 33.0, 107.0, 35.0, 120.0, 368.0, 24.0, 93.0, 62.0, 108.0, 25.0, 54.0, 239.0, 393.0, 123.0, 46.0, 134.0, 25.0, 135.0, 409.0], \"type\": \"scatter\", \"uid\": \"ef972506-5bd4-11e9-987d-373b1f4a120b\"}, {\"mode\": \"lines\", \"name\": \"estimated revenue\", \"x\": [13.0, 46.0, 20.0, 61.0, 40.0, 225.0, 92.0, 12.0, 130.0, 25.0, 50.0, 18.0, 55.0, 30.0, 78.0, 76.0, 6.0, 120.0, 110.0, 100.0, 70.0, 17.0, 160.0, 150.0, 140.0, 60.0, 80.0, 23.0, 35.0, 200.0], \"y\": [32.099999999999994, 88.2, 44.0, 113.7, 78.0, 392.5, 166.4, 30.4, 231.0, 52.5, 95.0, 40.599999999999994, 103.5, 61.0, 142.6, 139.2, 20.2, 214.0, 197.0, 180.0, 129.0, 38.9, 282.0, 265.0, 248.0, 112.0, 146.0, 49.1, 69.5, 350.0], \"type\": \"scatter\", \"uid\": \"ef97263c-5bd4-11e9-987d-373b1f4a120b\"}], {}, {\"showLink\": true, \"linkText\": \"Export to plot.ly\"})});</script>"
      ],
      "text/vnd.plotly.v1+html": [
       "<div id=\"e06410a3-fd30-451d-9cf9-7e0fb6d33d68\" style=\"height: 525px; width: 100%;\" class=\"plotly-graph-div\"></div><script type=\"text/javascript\">require([\"plotly\"], function(Plotly) { window.PLOTLYENV=window.PLOTLYENV || {};window.PLOTLYENV.BASE_URL=\"https://plot.ly\";Plotly.newPlot(\"e06410a3-fd30-451d-9cf9-7e0fb6d33d68\", [{\"mode\": \"markers\", \"name\": \"movie data\", \"text\": [\"21 &amp; Over\", \"Dredd 3D\", \"12 Years a Slave\", \"2 Guns\", \"42\", \"47 Ronin\", \"A Good Day to Die Hard\", \"About Time\", \"After Earth\", \"August: Osage County\", \"Beautiful Creatures\", \"Blue Jasmine\", \"Captain Phillips\", \"Carrie\", \"Cloudy with a Chance of Meatballs 2\", \"Despicable Me 2\", \"Don Jon\", \"Elysium\", \"Ender&#39;s Game\", \"Epic\", \"Escape Plan\", \"Evil Dead\", \"Fast and Furious 6\", \"Frozen\", \"G.I. Joe: Retaliation\", \"Gangster Squad\", \"Grown Ups\", \"Her\", \"Identity Thief\", \"Iron Man 3\"], \"x\": [13.0, 46.0, 20.0, 61.0, 40.0, 225.0, 92.0, 12.0, 130.0, 25.0, 50.0, 18.0, 55.0, 30.0, 78.0, 76.0, 6.0, 120.0, 110.0, 100.0, 70.0, 17.0, 160.0, 150.0, 140.0, 60.0, 80.0, 23.0, 35.0, 200.0], \"y\": [26.0, 13.0, 53.0, 76.0, 95.0, 38.0, 67.0, 15.0, 61.0, 37.0, 19.0, 33.0, 107.0, 35.0, 120.0, 368.0, 24.0, 93.0, 62.0, 108.0, 25.0, 54.0, 239.0, 393.0, 123.0, 46.0, 134.0, 25.0, 135.0, 409.0], \"type\": \"scatter\", \"uid\": \"ef972506-5bd4-11e9-987d-373b1f4a120b\"}, {\"mode\": \"lines\", \"name\": \"estimated revenue\", \"x\": [13.0, 46.0, 20.0, 61.0, 40.0, 225.0, 92.0, 12.0, 130.0, 25.0, 50.0, 18.0, 55.0, 30.0, 78.0, 76.0, 6.0, 120.0, 110.0, 100.0, 70.0, 17.0, 160.0, 150.0, 140.0, 60.0, 80.0, 23.0, 35.0, 200.0], \"y\": [32.099999999999994, 88.2, 44.0, 113.7, 78.0, 392.5, 166.4, 30.4, 231.0, 52.5, 95.0, 40.599999999999994, 103.5, 61.0, 142.6, 139.2, 20.2, 214.0, 197.0, 180.0, 129.0, 38.9, 282.0, 265.0, 248.0, 112.0, 146.0, 49.1, 69.5, 350.0], \"type\": \"scatter\", \"uid\": \"ef97263c-5bd4-11e9-987d-373b1f4a120b\"}], {}, {\"showLink\": true, \"linkText\": \"Export to plot.ly\"})});</script>"
      ]
     },
     "metadata": {},
     "output_type": "display_data"
    }
   ],
   "source": [
    "from plotly.offline import iplot, init_notebook_mode\n",
    "init_notebook_mode(connected=True)\n",
    "from graph import trace_values, m_b_trace, plot\n",
    "\n",
    "if x_values and y_values:\n",
    "    movies_trace = trace_values(x_values, y_values, text=titles, name='movie data')\n",
    "    regression_trace = m_b_trace(1.7, 10, x_values, name='estimated revenue')\n",
    "    plot([movies_trace, regression_trace])"
   ]
  },
  {
   "cell_type": "markdown",
   "metadata": {},
   "source": [
    "### Calculating errors of a regression Line"
   ]
  },
  {
   "cell_type": "markdown",
   "metadata": {},
   "source": [
    "Now that we have our regression formula, we can move towards calculating the error. We provide a function called `y_actual` that given a data set of `x_values` and `y_values`, finds the actual y value, provided a value of `x`.\n",
    "\n"
   ]
  },
  {
   "cell_type": "code",
   "execution_count": 60,
   "metadata": {},
   "outputs": [],
   "source": [
    "def y_actual(x, x_values, y_values):\n",
    "    combined_values = list(zip(x_values, y_values))\n",
    "    point_at_x = list(filter(lambda point: point[0] == x,combined_values))[0]\n",
    "    return point_at_x[1]"
   ]
  },
  {
   "cell_type": "code",
   "execution_count": 59,
   "metadata": {},
   "outputs": [
    {
     "data": {
      "text/plain": [
       "93.0"
      ]
     },
     "execution_count": 59,
     "metadata": {},
     "output_type": "execute_result"
    }
   ],
   "source": [
    "x_values and y_values and y_actual(120, x_values, y_values) # 26.0"
   ]
  },
  {
   "cell_type": "markdown",
   "metadata": {},
   "source": [
    "Write a function called `error`, that given a list of `x_values`, and a list of `y_values`, the values `m` and `b` of a regression line, and a value of `x`, returns the error at that x value.  Remember ${\\varepsilon_i} =  y_i - \\hat{y}_i$.  "
   ]
  },
  {
   "cell_type": "code",
   "execution_count": 43,
   "metadata": {},
   "outputs": [],
   "source": [
    "def error(x_values, y_values, m, b, x):\n",
    "    return y_actual(x, x_values, y_values) - regression_formula(x)"
   ]
  },
  {
   "cell_type": "code",
   "execution_count": 77,
   "metadata": {},
   "outputs": [
    {
     "data": {
      "text/plain": [
       "-6.099999999999994"
      ]
     },
     "execution_count": 77,
     "metadata": {},
     "output_type": "execute_result"
    }
   ],
   "source": [
    "error(x_values, y_values, 1.7, 10, 13) # -6.099999999999994"
   ]
  },
  {
   "cell_type": "raw",
   "metadata": {},
   "source": [
    "Now that we have a formula to calculate our errors, write a function called `error_line_trace` that returns a trace of an error at a given point.  So for a given movie budget, it will display the difference between the regression line and the actual movie revenue."
   ]
  },
  {
   "cell_type": "markdown",
   "metadata": {},
   "source": [
    "![](./error-line.png)"
   ]
  },
  {
   "cell_type": "markdown",
   "metadata": {},
   "source": [
    "Ok, so the function `error_line_trace` takes our dataset of `x_values` as the first argument and `y_values` as the second argument.  It also takes in values of $m$ and $b$ as the next two arguments to represent the regression line we will calculate errors from. Finally, the last argument is the value $x$ it is drawing an error for.\n",
    "\n",
    "The return value is a dictionary that represents a trace, and looks like the following:\n",
    "\n",
    "```python\n",
    "{'marker': {'color': 'red'},\n",
    " 'mode': 'lines',\n",
    " 'name': 'error at 120',\n",
    " 'x': [120, 120],\n",
    " 'y': [93.0, 214.0]}\n",
    "\n",
    "```\n",
    "\n",
    "The trace represents the error line above. The data in `x` and `y` represent the starting point and ending point of the error line. Note that the x value is the same for the starting and ending point, just as it is for each vertical line. It's just the y values that differ - representing the actual value and the expected value. The mode of the trace equals `'lines'`."
   ]
  },
  {
   "cell_type": "code",
   "execution_count": 71,
   "metadata": {},
   "outputs": [],
   "source": [
    "def error_line_trace(x_values, y_values, m, b, x):\n",
    "    return {'marker': {'color': 'red'}, 'mode': 'lines', 'name': f'error at {x}', 'x': [x, x], 'y': [regression_formula(x), y_actual(x, x_values, y_values)]}"
   ]
  },
  {
   "cell_type": "code",
   "execution_count": 72,
   "metadata": {},
   "outputs": [
    {
     "data": {
      "text/plain": [
       "{'marker': {'color': 'red'},\n",
       " 'mode': 'lines',\n",
       " 'name': 'error at 120',\n",
       " 'x': [120, 120],\n",
       " 'y': [214.0, 93.0]}"
      ]
     },
     "execution_count": 72,
     "metadata": {},
     "output_type": "execute_result"
    }
   ],
   "source": [
    "error_at_120m = error_line_trace(x_values, y_values, 1.7, 10, 120)\n",
    "\n",
    "# {'marker': {'color': 'red'},\n",
    "#  'mode': 'lines',\n",
    "#  'name': 'error at 120',\n",
    "#  'x': [120, 120],\n",
    "#  'y': [93.0, 214.0]}\n",
    "error_at_120m"
   ]
  },
  {
   "cell_type": "markdown",
   "metadata": {},
   "source": [
    "We just ran the our function to draw a trace of the error for the movie Elysium.  Let's see how it looks."
   ]
  },
  {
   "cell_type": "code",
   "execution_count": 63,
   "metadata": {},
   "outputs": [
    {
     "data": {
      "text/plain": [
       "{'title': 'Elysium', 'budget': 120.0, 'domgross': 93.0}"
      ]
     },
     "execution_count": 63,
     "metadata": {},
     "output_type": "execute_result"
    }
   ],
   "source": [
    "scaled_movies[17]"
   ]
  },
  {
   "cell_type": "code",
   "execution_count": 64,
   "metadata": {},
   "outputs": [
    {
     "data": {
      "text/html": [
       "<script>requirejs.config({paths: { 'plotly': ['https://cdn.plot.ly/plotly-latest.min']},});if(!window.Plotly) {{require(['plotly'],function(plotly) {window.Plotly=plotly;});}}</script>"
      ],
      "text/vnd.plotly.v1+html": [
       "<script>requirejs.config({paths: { 'plotly': ['https://cdn.plot.ly/plotly-latest.min']},});if(!window.Plotly) {{require(['plotly'],function(plotly) {window.Plotly=plotly;});}}</script>"
      ]
     },
     "metadata": {},
     "output_type": "display_data"
    },
    {
     "data": {
      "application/vnd.plotly.v1+json": {
       "data": [
        {
         "mode": "markers",
         "name": "movie data",
         "text": [
          "21 &amp; Over",
          "Dredd 3D",
          "12 Years a Slave",
          "2 Guns",
          "42",
          "47 Ronin",
          "A Good Day to Die Hard",
          "About Time",
          "After Earth",
          "August: Osage County",
          "Beautiful Creatures",
          "Blue Jasmine",
          "Captain Phillips",
          "Carrie",
          "Cloudy with a Chance of Meatballs 2",
          "Despicable Me 2",
          "Don Jon",
          "Elysium",
          "Ender&#39;s Game",
          "Epic",
          "Escape Plan",
          "Evil Dead",
          "Fast and Furious 6",
          "Frozen",
          "G.I. Joe: Retaliation",
          "Gangster Squad",
          "Grown Ups",
          "Her",
          "Identity Thief",
          "Iron Man 3"
         ],
         "type": "scatter",
         "uid": "061e1c28-5bd8-11e9-987d-373b1f4a120b",
         "x": [
          13,
          46,
          20,
          61,
          40,
          225,
          92,
          12,
          130,
          25,
          50,
          18,
          55,
          30,
          78,
          76,
          6,
          120,
          110,
          100,
          70,
          17,
          160,
          150,
          140,
          60,
          80,
          23,
          35,
          200
         ],
         "y": [
          26,
          13,
          53,
          76,
          95,
          38,
          67,
          15,
          61,
          37,
          19,
          33,
          107,
          35,
          120,
          368,
          24,
          93,
          62,
          108,
          25,
          54,
          239,
          393,
          123,
          46,
          134,
          25,
          135,
          409
         ]
        },
        {
         "mode": "lines",
         "name": "estimated revenue",
         "type": "scatter",
         "uid": "061e1d9a-5bd8-11e9-987d-373b1f4a120b",
         "x": [
          13,
          46,
          20,
          61,
          40,
          225,
          92,
          12,
          130,
          25,
          50,
          18,
          55,
          30,
          78,
          76,
          6,
          120,
          110,
          100,
          70,
          17,
          160,
          150,
          140,
          60,
          80,
          23,
          35,
          200
         ],
         "y": [
          32.099999999999994,
          88.2,
          44,
          113.7,
          78,
          392.5,
          166.4,
          30.4,
          231,
          52.5,
          95,
          40.599999999999994,
          103.5,
          61,
          142.6,
          139.2,
          20.2,
          214,
          197,
          180,
          129,
          38.9,
          282,
          265,
          248,
          112,
          146,
          49.1,
          69.5,
          350
         ]
        },
        {
         "marker": {
          "color": "red"
         },
         "mode": "lines",
         "name": "error at 120",
         "type": "scatter",
         "uid": "061e1e6c-5bd8-11e9-987d-373b1f4a120b",
         "x": [
          120,
          120
         ],
         "y": [
          214,
          93
         ]
        }
       ],
       "layout": {}
      },
      "text/html": [
       "<div id=\"47807b5a-1845-4aa3-817c-030d9f3bb258\" style=\"height: 525px; width: 100%;\" class=\"plotly-graph-div\"></div><script type=\"text/javascript\">require([\"plotly\"], function(Plotly) { window.PLOTLYENV=window.PLOTLYENV || {};window.PLOTLYENV.BASE_URL=\"https://plot.ly\";Plotly.newPlot(\"47807b5a-1845-4aa3-817c-030d9f3bb258\", [{\"mode\": \"markers\", \"name\": \"movie data\", \"text\": [\"21 &amp; Over\", \"Dredd 3D\", \"12 Years a Slave\", \"2 Guns\", \"42\", \"47 Ronin\", \"A Good Day to Die Hard\", \"About Time\", \"After Earth\", \"August: Osage County\", \"Beautiful Creatures\", \"Blue Jasmine\", \"Captain Phillips\", \"Carrie\", \"Cloudy with a Chance of Meatballs 2\", \"Despicable Me 2\", \"Don Jon\", \"Elysium\", \"Ender&#39;s Game\", \"Epic\", \"Escape Plan\", \"Evil Dead\", \"Fast and Furious 6\", \"Frozen\", \"G.I. Joe: Retaliation\", \"Gangster Squad\", \"Grown Ups\", \"Her\", \"Identity Thief\", \"Iron Man 3\"], \"x\": [13.0, 46.0, 20.0, 61.0, 40.0, 225.0, 92.0, 12.0, 130.0, 25.0, 50.0, 18.0, 55.0, 30.0, 78.0, 76.0, 6.0, 120.0, 110.0, 100.0, 70.0, 17.0, 160.0, 150.0, 140.0, 60.0, 80.0, 23.0, 35.0, 200.0], \"y\": [26.0, 13.0, 53.0, 76.0, 95.0, 38.0, 67.0, 15.0, 61.0, 37.0, 19.0, 33.0, 107.0, 35.0, 120.0, 368.0, 24.0, 93.0, 62.0, 108.0, 25.0, 54.0, 239.0, 393.0, 123.0, 46.0, 134.0, 25.0, 135.0, 409.0], \"type\": \"scatter\", \"uid\": \"0621c51c-5bd8-11e9-987d-373b1f4a120b\"}, {\"mode\": \"lines\", \"name\": \"estimated revenue\", \"x\": [13.0, 46.0, 20.0, 61.0, 40.0, 225.0, 92.0, 12.0, 130.0, 25.0, 50.0, 18.0, 55.0, 30.0, 78.0, 76.0, 6.0, 120.0, 110.0, 100.0, 70.0, 17.0, 160.0, 150.0, 140.0, 60.0, 80.0, 23.0, 35.0, 200.0], \"y\": [32.099999999999994, 88.2, 44.0, 113.7, 78.0, 392.5, 166.4, 30.4, 231.0, 52.5, 95.0, 40.599999999999994, 103.5, 61.0, 142.6, 139.2, 20.2, 214.0, 197.0, 180.0, 129.0, 38.9, 282.0, 265.0, 248.0, 112.0, 146.0, 49.1, 69.5, 350.0], \"type\": \"scatter\", \"uid\": \"0621c65c-5bd8-11e9-987d-373b1f4a120b\"}, {\"marker\": {\"color\": \"red\"}, \"mode\": \"lines\", \"name\": \"error at 120\", \"x\": [120, 120], \"y\": [214.0, 93.0], \"type\": \"scatter\", \"uid\": \"0621c6fc-5bd8-11e9-987d-373b1f4a120b\"}], {}, {\"showLink\": true, \"linkText\": \"Export to plot.ly\"})});</script>"
      ],
      "text/vnd.plotly.v1+html": [
       "<div id=\"47807b5a-1845-4aa3-817c-030d9f3bb258\" style=\"height: 525px; width: 100%;\" class=\"plotly-graph-div\"></div><script type=\"text/javascript\">require([\"plotly\"], function(Plotly) { window.PLOTLYENV=window.PLOTLYENV || {};window.PLOTLYENV.BASE_URL=\"https://plot.ly\";Plotly.newPlot(\"47807b5a-1845-4aa3-817c-030d9f3bb258\", [{\"mode\": \"markers\", \"name\": \"movie data\", \"text\": [\"21 &amp; Over\", \"Dredd 3D\", \"12 Years a Slave\", \"2 Guns\", \"42\", \"47 Ronin\", \"A Good Day to Die Hard\", \"About Time\", \"After Earth\", \"August: Osage County\", \"Beautiful Creatures\", \"Blue Jasmine\", \"Captain Phillips\", \"Carrie\", \"Cloudy with a Chance of Meatballs 2\", \"Despicable Me 2\", \"Don Jon\", \"Elysium\", \"Ender&#39;s Game\", \"Epic\", \"Escape Plan\", \"Evil Dead\", \"Fast and Furious 6\", \"Frozen\", \"G.I. Joe: Retaliation\", \"Gangster Squad\", \"Grown Ups\", \"Her\", \"Identity Thief\", \"Iron Man 3\"], \"x\": [13.0, 46.0, 20.0, 61.0, 40.0, 225.0, 92.0, 12.0, 130.0, 25.0, 50.0, 18.0, 55.0, 30.0, 78.0, 76.0, 6.0, 120.0, 110.0, 100.0, 70.0, 17.0, 160.0, 150.0, 140.0, 60.0, 80.0, 23.0, 35.0, 200.0], \"y\": [26.0, 13.0, 53.0, 76.0, 95.0, 38.0, 67.0, 15.0, 61.0, 37.0, 19.0, 33.0, 107.0, 35.0, 120.0, 368.0, 24.0, 93.0, 62.0, 108.0, 25.0, 54.0, 239.0, 393.0, 123.0, 46.0, 134.0, 25.0, 135.0, 409.0], \"type\": \"scatter\", \"uid\": \"0621c51c-5bd8-11e9-987d-373b1f4a120b\"}, {\"mode\": \"lines\", \"name\": \"estimated revenue\", \"x\": [13.0, 46.0, 20.0, 61.0, 40.0, 225.0, 92.0, 12.0, 130.0, 25.0, 50.0, 18.0, 55.0, 30.0, 78.0, 76.0, 6.0, 120.0, 110.0, 100.0, 70.0, 17.0, 160.0, 150.0, 140.0, 60.0, 80.0, 23.0, 35.0, 200.0], \"y\": [32.099999999999994, 88.2, 44.0, 113.7, 78.0, 392.5, 166.4, 30.4, 231.0, 52.5, 95.0, 40.599999999999994, 103.5, 61.0, 142.6, 139.2, 20.2, 214.0, 197.0, 180.0, 129.0, 38.9, 282.0, 265.0, 248.0, 112.0, 146.0, 49.1, 69.5, 350.0], \"type\": \"scatter\", \"uid\": \"0621c65c-5bd8-11e9-987d-373b1f4a120b\"}, {\"marker\": {\"color\": \"red\"}, \"mode\": \"lines\", \"name\": \"error at 120\", \"x\": [120, 120], \"y\": [214.0, 93.0], \"type\": \"scatter\", \"uid\": \"0621c6fc-5bd8-11e9-987d-373b1f4a120b\"}], {}, {\"showLink\": true, \"linkText\": \"Export to plot.ly\"})});</script>"
      ]
     },
     "metadata": {},
     "output_type": "display_data"
    }
   ],
   "source": [
    "from plotly.offline import iplot, init_notebook_mode\n",
    "init_notebook_mode(connected=True)\n",
    "from graph import trace_values, m_b_trace, plot\n",
    "if x_values and y_values:\n",
    "    movies_trace = trace_values(x_values, y_values, text=titles, name='movie data')\n",
    "    regression_trace = m_b_trace(1.7, 10, x_values, name='estimated revenue')\n",
    "    plot([movies_trace, regression_trace, error_at_120m])"
   ]
  },
  {
   "cell_type": "markdown",
   "metadata": {},
   "source": [
    "From there, we can write a function called `error_line_traces`, that takes in a list of `x_values` as an argument, `y_values` as an argument, and returns a list of traces for every x value provided."
   ]
  },
  {
   "cell_type": "code",
   "execution_count": 65,
   "metadata": {},
   "outputs": [],
   "source": [
    "def error_line_traces(x_values, y_values, m, b):\n",
    "    return [error_line_trace(x_values, y_values, m, b, x) for x in x_values]"
   ]
  },
  {
   "cell_type": "code",
   "execution_count": 73,
   "metadata": {},
   "outputs": [],
   "source": [
    "errors_for_regression = error_line_traces(x_values, y_values, 1.7, 10)"
   ]
  },
  {
   "cell_type": "code",
   "execution_count": 74,
   "metadata": {},
   "outputs": [
    {
     "data": {
      "text/plain": [
       "30"
      ]
     },
     "execution_count": 74,
     "metadata": {},
     "output_type": "execute_result"
    }
   ],
   "source": [
    "errors_for_regression and len(errors_for_regression) # 30"
   ]
  },
  {
   "cell_type": "code",
   "execution_count": 75,
   "metadata": {},
   "outputs": [
    {
     "data": {
      "text/plain": [
       "{'marker': {'color': 'red'},\n",
       " 'mode': 'lines',\n",
       " 'name': 'error at 200.0',\n",
       " 'x': [200.0, 200.0],\n",
       " 'y': [350.0, 409.0]}"
      ]
     },
     "execution_count": 75,
     "metadata": {},
     "output_type": "execute_result"
    }
   ],
   "source": [
    "errors_for_regression and errors_for_regression[-1]\n",
    "\n",
    "# {'x': [200.0, 200.0],\n",
    "#  'y': [409.0, 350.0],\n",
    "#  'mode': 'lines',\n",
    "#  'marker': {'color': 'red'},\n",
    "#  'name': 'error at 200.0'}"
   ]
  },
  {
   "cell_type": "code",
   "execution_count": 76,
   "metadata": {},
   "outputs": [
    {
     "data": {
      "text/html": [
       "<script>requirejs.config({paths: { 'plotly': ['https://cdn.plot.ly/plotly-latest.min']},});if(!window.Plotly) {{require(['plotly'],function(plotly) {window.Plotly=plotly;});}}</script>"
      ],
      "text/vnd.plotly.v1+html": [
       "<script>requirejs.config({paths: { 'plotly': ['https://cdn.plot.ly/plotly-latest.min']},});if(!window.Plotly) {{require(['plotly'],function(plotly) {window.Plotly=plotly;});}}</script>"
      ]
     },
     "metadata": {},
     "output_type": "display_data"
    },
    {
     "data": {
      "application/vnd.plotly.v1+json": {
       "data": [
        {
         "mode": "markers",
         "name": "movie data",
         "text": [
          "21 &amp; Over",
          "Dredd 3D",
          "12 Years a Slave",
          "2 Guns",
          "42",
          "47 Ronin",
          "A Good Day to Die Hard",
          "About Time",
          "After Earth",
          "August: Osage County",
          "Beautiful Creatures",
          "Blue Jasmine",
          "Captain Phillips",
          "Carrie",
          "Cloudy with a Chance of Meatballs 2",
          "Despicable Me 2",
          "Don Jon",
          "Elysium",
          "Ender&#39;s Game",
          "Epic",
          "Escape Plan",
          "Evil Dead",
          "Fast and Furious 6",
          "Frozen",
          "G.I. Joe: Retaliation",
          "Gangster Squad",
          "Grown Ups",
          "Her",
          "Identity Thief",
          "Iron Man 3"
         ],
         "type": "scatter",
         "uid": "5c815f8e-5bd9-11e9-987d-373b1f4a120b",
         "x": [
          13,
          46,
          20,
          61,
          40,
          225,
          92,
          12,
          130,
          25,
          50,
          18,
          55,
          30,
          78,
          76,
          6,
          120,
          110,
          100,
          70,
          17,
          160,
          150,
          140,
          60,
          80,
          23,
          35,
          200
         ],
         "y": [
          26,
          13,
          53,
          76,
          95,
          38,
          67,
          15,
          61,
          37,
          19,
          33,
          107,
          35,
          120,
          368,
          24,
          93,
          62,
          108,
          25,
          54,
          239,
          393,
          123,
          46,
          134,
          25,
          135,
          409
         ]
        },
        {
         "mode": "lines",
         "name": "estimated revenue",
         "type": "scatter",
         "uid": "5c8160e2-5bd9-11e9-987d-373b1f4a120b",
         "x": [
          13,
          46,
          20,
          61,
          40,
          225,
          92,
          12,
          130,
          25,
          50,
          18,
          55,
          30,
          78,
          76,
          6,
          120,
          110,
          100,
          70,
          17,
          160,
          150,
          140,
          60,
          80,
          23,
          35,
          200
         ],
         "y": [
          32.099999999999994,
          88.2,
          44,
          113.7,
          78,
          392.5,
          166.4,
          30.4,
          231,
          52.5,
          95,
          40.599999999999994,
          103.5,
          61,
          142.6,
          139.2,
          20.2,
          214,
          197,
          180,
          129,
          38.9,
          282,
          265,
          248,
          112,
          146,
          49.1,
          69.5,
          350
         ]
        },
        {
         "marker": {
          "color": "red"
         },
         "mode": "lines",
         "name": "error at 13.0",
         "type": "scatter",
         "uid": "5c81618c-5bd9-11e9-987d-373b1f4a120b",
         "x": [
          13,
          13
         ],
         "y": [
          32.099999999999994,
          26
         ]
        },
        {
         "marker": {
          "color": "red"
         },
         "mode": "lines",
         "name": "error at 46.0",
         "type": "scatter",
         "uid": "5c816218-5bd9-11e9-987d-373b1f4a120b",
         "x": [
          46,
          46
         ],
         "y": [
          88.2,
          13
         ]
        },
        {
         "marker": {
          "color": "red"
         },
         "mode": "lines",
         "name": "error at 20.0",
         "type": "scatter",
         "uid": "5c81629a-5bd9-11e9-987d-373b1f4a120b",
         "x": [
          20,
          20
         ],
         "y": [
          44,
          53
         ]
        },
        {
         "marker": {
          "color": "red"
         },
         "mode": "lines",
         "name": "error at 61.0",
         "type": "scatter",
         "uid": "5c81631c-5bd9-11e9-987d-373b1f4a120b",
         "x": [
          61,
          61
         ],
         "y": [
          113.7,
          76
         ]
        },
        {
         "marker": {
          "color": "red"
         },
         "mode": "lines",
         "name": "error at 40.0",
         "type": "scatter",
         "uid": "5c81639e-5bd9-11e9-987d-373b1f4a120b",
         "x": [
          40,
          40
         ],
         "y": [
          78,
          95
         ]
        },
        {
         "marker": {
          "color": "red"
         },
         "mode": "lines",
         "name": "error at 225.0",
         "type": "scatter",
         "uid": "5c816420-5bd9-11e9-987d-373b1f4a120b",
         "x": [
          225,
          225
         ],
         "y": [
          392.5,
          38
         ]
        },
        {
         "marker": {
          "color": "red"
         },
         "mode": "lines",
         "name": "error at 92.0",
         "type": "scatter",
         "uid": "5c8164a2-5bd9-11e9-987d-373b1f4a120b",
         "x": [
          92,
          92
         ],
         "y": [
          166.4,
          67
         ]
        },
        {
         "marker": {
          "color": "red"
         },
         "mode": "lines",
         "name": "error at 12.0",
         "type": "scatter",
         "uid": "5c81651a-5bd9-11e9-987d-373b1f4a120b",
         "x": [
          12,
          12
         ],
         "y": [
          30.4,
          15
         ]
        },
        {
         "marker": {
          "color": "red"
         },
         "mode": "lines",
         "name": "error at 130.0",
         "type": "scatter",
         "uid": "5c81659c-5bd9-11e9-987d-373b1f4a120b",
         "x": [
          130,
          130
         ],
         "y": [
          231,
          61
         ]
        },
        {
         "marker": {
          "color": "red"
         },
         "mode": "lines",
         "name": "error at 25.0",
         "type": "scatter",
         "uid": "5c81661e-5bd9-11e9-987d-373b1f4a120b",
         "x": [
          25,
          25
         ],
         "y": [
          52.5,
          37
         ]
        },
        {
         "marker": {
          "color": "red"
         },
         "mode": "lines",
         "name": "error at 50.0",
         "type": "scatter",
         "uid": "5c816696-5bd9-11e9-987d-373b1f4a120b",
         "x": [
          50,
          50
         ],
         "y": [
          95,
          19
         ]
        },
        {
         "marker": {
          "color": "red"
         },
         "mode": "lines",
         "name": "error at 18.0",
         "type": "scatter",
         "uid": "5c81670e-5bd9-11e9-987d-373b1f4a120b",
         "x": [
          18,
          18
         ],
         "y": [
          40.599999999999994,
          33
         ]
        },
        {
         "marker": {
          "color": "red"
         },
         "mode": "lines",
         "name": "error at 55.0",
         "type": "scatter",
         "uid": "5c816786-5bd9-11e9-987d-373b1f4a120b",
         "x": [
          55,
          55
         ],
         "y": [
          103.5,
          107
         ]
        },
        {
         "marker": {
          "color": "red"
         },
         "mode": "lines",
         "name": "error at 30.0",
         "type": "scatter",
         "uid": "5c8167f4-5bd9-11e9-987d-373b1f4a120b",
         "x": [
          30,
          30
         ],
         "y": [
          61,
          35
         ]
        },
        {
         "marker": {
          "color": "red"
         },
         "mode": "lines",
         "name": "error at 78.0",
         "type": "scatter",
         "uid": "5c816862-5bd9-11e9-987d-373b1f4a120b",
         "x": [
          78,
          78
         ],
         "y": [
          142.6,
          120
         ]
        },
        {
         "marker": {
          "color": "red"
         },
         "mode": "lines",
         "name": "error at 76.0",
         "type": "scatter",
         "uid": "5c8168da-5bd9-11e9-987d-373b1f4a120b",
         "x": [
          76,
          76
         ],
         "y": [
          139.2,
          368
         ]
        },
        {
         "marker": {
          "color": "red"
         },
         "mode": "lines",
         "name": "error at 6.0",
         "type": "scatter",
         "uid": "5c816948-5bd9-11e9-987d-373b1f4a120b",
         "x": [
          6,
          6
         ],
         "y": [
          20.2,
          24
         ]
        },
        {
         "marker": {
          "color": "red"
         },
         "mode": "lines",
         "name": "error at 120.0",
         "type": "scatter",
         "uid": "5c8169c0-5bd9-11e9-987d-373b1f4a120b",
         "x": [
          120,
          120
         ],
         "y": [
          214,
          93
         ]
        },
        {
         "marker": {
          "color": "red"
         },
         "mode": "lines",
         "name": "error at 110.0",
         "type": "scatter",
         "uid": "5c816a38-5bd9-11e9-987d-373b1f4a120b",
         "x": [
          110,
          110
         ],
         "y": [
          197,
          62
         ]
        },
        {
         "marker": {
          "color": "red"
         },
         "mode": "lines",
         "name": "error at 100.0",
         "type": "scatter",
         "uid": "5c816ab0-5bd9-11e9-987d-373b1f4a120b",
         "x": [
          100,
          100
         ],
         "y": [
          180,
          108
         ]
        },
        {
         "marker": {
          "color": "red"
         },
         "mode": "lines",
         "name": "error at 70.0",
         "type": "scatter",
         "uid": "5c816b1e-5bd9-11e9-987d-373b1f4a120b",
         "x": [
          70,
          70
         ],
         "y": [
          129,
          25
         ]
        },
        {
         "marker": {
          "color": "red"
         },
         "mode": "lines",
         "name": "error at 17.0",
         "type": "scatter",
         "uid": "5c816b96-5bd9-11e9-987d-373b1f4a120b",
         "x": [
          17,
          17
         ],
         "y": [
          38.9,
          54
         ]
        },
        {
         "marker": {
          "color": "red"
         },
         "mode": "lines",
         "name": "error at 160.0",
         "type": "scatter",
         "uid": "5c816c04-5bd9-11e9-987d-373b1f4a120b",
         "x": [
          160,
          160
         ],
         "y": [
          282,
          239
         ]
        },
        {
         "marker": {
          "color": "red"
         },
         "mode": "lines",
         "name": "error at 150.0",
         "type": "scatter",
         "uid": "5c816c72-5bd9-11e9-987d-373b1f4a120b",
         "x": [
          150,
          150
         ],
         "y": [
          265,
          393
         ]
        },
        {
         "marker": {
          "color": "red"
         },
         "mode": "lines",
         "name": "error at 140.0",
         "type": "scatter",
         "uid": "5c816cea-5bd9-11e9-987d-373b1f4a120b",
         "x": [
          140,
          140
         ],
         "y": [
          248,
          123
         ]
        },
        {
         "marker": {
          "color": "red"
         },
         "mode": "lines",
         "name": "error at 60.0",
         "type": "scatter",
         "uid": "5c816d62-5bd9-11e9-987d-373b1f4a120b",
         "x": [
          60,
          60
         ],
         "y": [
          112,
          46
         ]
        },
        {
         "marker": {
          "color": "red"
         },
         "mode": "lines",
         "name": "error at 80.0",
         "type": "scatter",
         "uid": "5c816dd0-5bd9-11e9-987d-373b1f4a120b",
         "x": [
          80,
          80
         ],
         "y": [
          146,
          134
         ]
        },
        {
         "marker": {
          "color": "red"
         },
         "mode": "lines",
         "name": "error at 23.0",
         "type": "scatter",
         "uid": "5c816e48-5bd9-11e9-987d-373b1f4a120b",
         "x": [
          23,
          23
         ],
         "y": [
          49.1,
          25
         ]
        },
        {
         "marker": {
          "color": "red"
         },
         "mode": "lines",
         "name": "error at 35.0",
         "type": "scatter",
         "uid": "5c816eb6-5bd9-11e9-987d-373b1f4a120b",
         "x": [
          35,
          35
         ],
         "y": [
          69.5,
          135
         ]
        },
        {
         "marker": {
          "color": "red"
         },
         "mode": "lines",
         "name": "error at 200.0",
         "type": "scatter",
         "uid": "5c816f2e-5bd9-11e9-987d-373b1f4a120b",
         "x": [
          200,
          200
         ],
         "y": [
          350,
          409
         ]
        }
       ],
       "layout": {}
      },
      "text/html": [
       "<div id=\"b226a8a2-b665-4ddc-abb8-a9f63d855771\" style=\"height: 525px; width: 100%;\" class=\"plotly-graph-div\"></div><script type=\"text/javascript\">require([\"plotly\"], function(Plotly) { window.PLOTLYENV=window.PLOTLYENV || {};window.PLOTLYENV.BASE_URL=\"https://plot.ly\";Plotly.newPlot(\"b226a8a2-b665-4ddc-abb8-a9f63d855771\", [{\"mode\": \"markers\", \"name\": \"movie data\", \"text\": [\"21 &amp; Over\", \"Dredd 3D\", \"12 Years a Slave\", \"2 Guns\", \"42\", \"47 Ronin\", \"A Good Day to Die Hard\", \"About Time\", \"After Earth\", \"August: Osage County\", \"Beautiful Creatures\", \"Blue Jasmine\", \"Captain Phillips\", \"Carrie\", \"Cloudy with a Chance of Meatballs 2\", \"Despicable Me 2\", \"Don Jon\", \"Elysium\", \"Ender&#39;s Game\", \"Epic\", \"Escape Plan\", \"Evil Dead\", \"Fast and Furious 6\", \"Frozen\", \"G.I. Joe: Retaliation\", \"Gangster Squad\", \"Grown Ups\", \"Her\", \"Identity Thief\", \"Iron Man 3\"], \"x\": [13.0, 46.0, 20.0, 61.0, 40.0, 225.0, 92.0, 12.0, 130.0, 25.0, 50.0, 18.0, 55.0, 30.0, 78.0, 76.0, 6.0, 120.0, 110.0, 100.0, 70.0, 17.0, 160.0, 150.0, 140.0, 60.0, 80.0, 23.0, 35.0, 200.0], \"y\": [26.0, 13.0, 53.0, 76.0, 95.0, 38.0, 67.0, 15.0, 61.0, 37.0, 19.0, 33.0, 107.0, 35.0, 120.0, 368.0, 24.0, 93.0, 62.0, 108.0, 25.0, 54.0, 239.0, 393.0, 123.0, 46.0, 134.0, 25.0, 135.0, 409.0], \"type\": \"scatter\", \"uid\": \"5c90f7fa-5bd9-11e9-987d-373b1f4a120b\"}, {\"mode\": \"lines\", \"name\": \"estimated revenue\", \"x\": [13.0, 46.0, 20.0, 61.0, 40.0, 225.0, 92.0, 12.0, 130.0, 25.0, 50.0, 18.0, 55.0, 30.0, 78.0, 76.0, 6.0, 120.0, 110.0, 100.0, 70.0, 17.0, 160.0, 150.0, 140.0, 60.0, 80.0, 23.0, 35.0, 200.0], \"y\": [32.099999999999994, 88.2, 44.0, 113.7, 78.0, 392.5, 166.4, 30.4, 231.0, 52.5, 95.0, 40.599999999999994, 103.5, 61.0, 142.6, 139.2, 20.2, 214.0, 197.0, 180.0, 129.0, 38.9, 282.0, 265.0, 248.0, 112.0, 146.0, 49.1, 69.5, 350.0], \"type\": \"scatter\", \"uid\": \"5c90f9e4-5bd9-11e9-987d-373b1f4a120b\"}, {\"marker\": {\"color\": \"red\"}, \"mode\": \"lines\", \"name\": \"error at 13.0\", \"x\": [13.0, 13.0], \"y\": [32.099999999999994, 26.0], \"type\": \"scatter\", \"uid\": \"5c90fa98-5bd9-11e9-987d-373b1f4a120b\"}, {\"marker\": {\"color\": \"red\"}, \"mode\": \"lines\", \"name\": \"error at 46.0\", \"x\": [46.0, 46.0], \"y\": [88.2, 13.0], \"type\": \"scatter\", \"uid\": \"5c90fb2e-5bd9-11e9-987d-373b1f4a120b\"}, {\"marker\": {\"color\": \"red\"}, \"mode\": \"lines\", \"name\": \"error at 20.0\", \"x\": [20.0, 20.0], \"y\": [44.0, 53.0], \"type\": \"scatter\", \"uid\": \"5c90fbb0-5bd9-11e9-987d-373b1f4a120b\"}, {\"marker\": {\"color\": \"red\"}, \"mode\": \"lines\", \"name\": \"error at 61.0\", \"x\": [61.0, 61.0], \"y\": [113.7, 76.0], \"type\": \"scatter\", \"uid\": \"5c90fc32-5bd9-11e9-987d-373b1f4a120b\"}, {\"marker\": {\"color\": \"red\"}, \"mode\": \"lines\", \"name\": \"error at 40.0\", \"x\": [40.0, 40.0], \"y\": [78.0, 95.0], \"type\": \"scatter\", \"uid\": \"5c90fcb4-5bd9-11e9-987d-373b1f4a120b\"}, {\"marker\": {\"color\": \"red\"}, \"mode\": \"lines\", \"name\": \"error at 225.0\", \"x\": [225.0, 225.0], \"y\": [392.5, 38.0], \"type\": \"scatter\", \"uid\": \"5c90fd2c-5bd9-11e9-987d-373b1f4a120b\"}, {\"marker\": {\"color\": \"red\"}, \"mode\": \"lines\", \"name\": \"error at 92.0\", \"x\": [92.0, 92.0], \"y\": [166.4, 67.0], \"type\": \"scatter\", \"uid\": \"5c90fda4-5bd9-11e9-987d-373b1f4a120b\"}, {\"marker\": {\"color\": \"red\"}, \"mode\": \"lines\", \"name\": \"error at 12.0\", \"x\": [12.0, 12.0], \"y\": [30.4, 15.0], \"type\": \"scatter\", \"uid\": \"5c90fe26-5bd9-11e9-987d-373b1f4a120b\"}, {\"marker\": {\"color\": \"red\"}, \"mode\": \"lines\", \"name\": \"error at 130.0\", \"x\": [130.0, 130.0], \"y\": [231.0, 61.0], \"type\": \"scatter\", \"uid\": \"5c90fe9e-5bd9-11e9-987d-373b1f4a120b\"}, {\"marker\": {\"color\": \"red\"}, \"mode\": \"lines\", \"name\": \"error at 25.0\", \"x\": [25.0, 25.0], \"y\": [52.5, 37.0], \"type\": \"scatter\", \"uid\": \"5c90ff16-5bd9-11e9-987d-373b1f4a120b\"}, {\"marker\": {\"color\": \"red\"}, \"mode\": \"lines\", \"name\": \"error at 50.0\", \"x\": [50.0, 50.0], \"y\": [95.0, 19.0], \"type\": \"scatter\", \"uid\": \"5c90ff8e-5bd9-11e9-987d-373b1f4a120b\"}, {\"marker\": {\"color\": \"red\"}, \"mode\": \"lines\", \"name\": \"error at 18.0\", \"x\": [18.0, 18.0], \"y\": [40.599999999999994, 33.0], \"type\": \"scatter\", \"uid\": \"5c910010-5bd9-11e9-987d-373b1f4a120b\"}, {\"marker\": {\"color\": \"red\"}, \"mode\": \"lines\", \"name\": \"error at 55.0\", \"x\": [55.0, 55.0], \"y\": [103.5, 107.0], \"type\": \"scatter\", \"uid\": \"5c910088-5bd9-11e9-987d-373b1f4a120b\"}, {\"marker\": {\"color\": \"red\"}, \"mode\": \"lines\", \"name\": \"error at 30.0\", \"x\": [30.0, 30.0], \"y\": [61.0, 35.0], \"type\": \"scatter\", \"uid\": \"5c910100-5bd9-11e9-987d-373b1f4a120b\"}, {\"marker\": {\"color\": \"red\"}, \"mode\": \"lines\", \"name\": \"error at 78.0\", \"x\": [78.0, 78.0], \"y\": [142.6, 120.0], \"type\": \"scatter\", \"uid\": \"5c91016e-5bd9-11e9-987d-373b1f4a120b\"}, {\"marker\": {\"color\": \"red\"}, \"mode\": \"lines\", \"name\": \"error at 76.0\", \"x\": [76.0, 76.0], \"y\": [139.2, 368.0], \"type\": \"scatter\", \"uid\": \"5c9101e6-5bd9-11e9-987d-373b1f4a120b\"}, {\"marker\": {\"color\": \"red\"}, \"mode\": \"lines\", \"name\": \"error at 6.0\", \"x\": [6.0, 6.0], \"y\": [20.2, 24.0], \"type\": \"scatter\", \"uid\": \"5c910254-5bd9-11e9-987d-373b1f4a120b\"}, {\"marker\": {\"color\": \"red\"}, \"mode\": \"lines\", \"name\": \"error at 120.0\", \"x\": [120.0, 120.0], \"y\": [214.0, 93.0], \"type\": \"scatter\", \"uid\": \"5c9102cc-5bd9-11e9-987d-373b1f4a120b\"}, {\"marker\": {\"color\": \"red\"}, \"mode\": \"lines\", \"name\": \"error at 110.0\", \"x\": [110.0, 110.0], \"y\": [197.0, 62.0], \"type\": \"scatter\", \"uid\": \"5c91033a-5bd9-11e9-987d-373b1f4a120b\"}, {\"marker\": {\"color\": \"red\"}, \"mode\": \"lines\", \"name\": \"error at 100.0\", \"x\": [100.0, 100.0], \"y\": [180.0, 108.0], \"type\": \"scatter\", \"uid\": \"5c9103a8-5bd9-11e9-987d-373b1f4a120b\"}, {\"marker\": {\"color\": \"red\"}, \"mode\": \"lines\", \"name\": \"error at 70.0\", \"x\": [70.0, 70.0], \"y\": [129.0, 25.0], \"type\": \"scatter\", \"uid\": \"5c910420-5bd9-11e9-987d-373b1f4a120b\"}, {\"marker\": {\"color\": \"red\"}, \"mode\": \"lines\", \"name\": \"error at 17.0\", \"x\": [17.0, 17.0], \"y\": [38.9, 54.0], \"type\": \"scatter\", \"uid\": \"5c9104ac-5bd9-11e9-987d-373b1f4a120b\"}, {\"marker\": {\"color\": \"red\"}, \"mode\": \"lines\", \"name\": \"error at 160.0\", \"x\": [160.0, 160.0], \"y\": [282.0, 239.0], \"type\": \"scatter\", \"uid\": \"5c91051a-5bd9-11e9-987d-373b1f4a120b\"}, {\"marker\": {\"color\": \"red\"}, \"mode\": \"lines\", \"name\": \"error at 150.0\", \"x\": [150.0, 150.0], \"y\": [265.0, 393.0], \"type\": \"scatter\", \"uid\": \"5c910592-5bd9-11e9-987d-373b1f4a120b\"}, {\"marker\": {\"color\": \"red\"}, \"mode\": \"lines\", \"name\": \"error at 140.0\", \"x\": [140.0, 140.0], \"y\": [248.0, 123.0], \"type\": \"scatter\", \"uid\": \"5c910600-5bd9-11e9-987d-373b1f4a120b\"}, {\"marker\": {\"color\": \"red\"}, \"mode\": \"lines\", \"name\": \"error at 60.0\", \"x\": [60.0, 60.0], \"y\": [112.0, 46.0], \"type\": \"scatter\", \"uid\": \"5c91066e-5bd9-11e9-987d-373b1f4a120b\"}, {\"marker\": {\"color\": \"red\"}, \"mode\": \"lines\", \"name\": \"error at 80.0\", \"x\": [80.0, 80.0], \"y\": [146.0, 134.0], \"type\": \"scatter\", \"uid\": \"5c9106dc-5bd9-11e9-987d-373b1f4a120b\"}, {\"marker\": {\"color\": \"red\"}, \"mode\": \"lines\", \"name\": \"error at 23.0\", \"x\": [23.0, 23.0], \"y\": [49.1, 25.0], \"type\": \"scatter\", \"uid\": \"5c91074a-5bd9-11e9-987d-373b1f4a120b\"}, {\"marker\": {\"color\": \"red\"}, \"mode\": \"lines\", \"name\": \"error at 35.0\", \"x\": [35.0, 35.0], \"y\": [69.5, 135.0], \"type\": \"scatter\", \"uid\": \"5c9107c2-5bd9-11e9-987d-373b1f4a120b\"}, {\"marker\": {\"color\": \"red\"}, \"mode\": \"lines\", \"name\": \"error at 200.0\", \"x\": [200.0, 200.0], \"y\": [350.0, 409.0], \"type\": \"scatter\", \"uid\": \"5c910830-5bd9-11e9-987d-373b1f4a120b\"}], {}, {\"showLink\": true, \"linkText\": \"Export to plot.ly\"})});</script>"
      ],
      "text/vnd.plotly.v1+html": [
       "<div id=\"b226a8a2-b665-4ddc-abb8-a9f63d855771\" style=\"height: 525px; width: 100%;\" class=\"plotly-graph-div\"></div><script type=\"text/javascript\">require([\"plotly\"], function(Plotly) { window.PLOTLYENV=window.PLOTLYENV || {};window.PLOTLYENV.BASE_URL=\"https://plot.ly\";Plotly.newPlot(\"b226a8a2-b665-4ddc-abb8-a9f63d855771\", [{\"mode\": \"markers\", \"name\": \"movie data\", \"text\": [\"21 &amp; Over\", \"Dredd 3D\", \"12 Years a Slave\", \"2 Guns\", \"42\", \"47 Ronin\", \"A Good Day to Die Hard\", \"About Time\", \"After Earth\", \"August: Osage County\", \"Beautiful Creatures\", \"Blue Jasmine\", \"Captain Phillips\", \"Carrie\", \"Cloudy with a Chance of Meatballs 2\", \"Despicable Me 2\", \"Don Jon\", \"Elysium\", \"Ender&#39;s Game\", \"Epic\", \"Escape Plan\", \"Evil Dead\", \"Fast and Furious 6\", \"Frozen\", \"G.I. Joe: Retaliation\", \"Gangster Squad\", \"Grown Ups\", \"Her\", \"Identity Thief\", \"Iron Man 3\"], \"x\": [13.0, 46.0, 20.0, 61.0, 40.0, 225.0, 92.0, 12.0, 130.0, 25.0, 50.0, 18.0, 55.0, 30.0, 78.0, 76.0, 6.0, 120.0, 110.0, 100.0, 70.0, 17.0, 160.0, 150.0, 140.0, 60.0, 80.0, 23.0, 35.0, 200.0], \"y\": [26.0, 13.0, 53.0, 76.0, 95.0, 38.0, 67.0, 15.0, 61.0, 37.0, 19.0, 33.0, 107.0, 35.0, 120.0, 368.0, 24.0, 93.0, 62.0, 108.0, 25.0, 54.0, 239.0, 393.0, 123.0, 46.0, 134.0, 25.0, 135.0, 409.0], \"type\": \"scatter\", \"uid\": \"5c90f7fa-5bd9-11e9-987d-373b1f4a120b\"}, {\"mode\": \"lines\", \"name\": \"estimated revenue\", \"x\": [13.0, 46.0, 20.0, 61.0, 40.0, 225.0, 92.0, 12.0, 130.0, 25.0, 50.0, 18.0, 55.0, 30.0, 78.0, 76.0, 6.0, 120.0, 110.0, 100.0, 70.0, 17.0, 160.0, 150.0, 140.0, 60.0, 80.0, 23.0, 35.0, 200.0], \"y\": [32.099999999999994, 88.2, 44.0, 113.7, 78.0, 392.5, 166.4, 30.4, 231.0, 52.5, 95.0, 40.599999999999994, 103.5, 61.0, 142.6, 139.2, 20.2, 214.0, 197.0, 180.0, 129.0, 38.9, 282.0, 265.0, 248.0, 112.0, 146.0, 49.1, 69.5, 350.0], \"type\": \"scatter\", \"uid\": \"5c90f9e4-5bd9-11e9-987d-373b1f4a120b\"}, {\"marker\": {\"color\": \"red\"}, \"mode\": \"lines\", \"name\": \"error at 13.0\", \"x\": [13.0, 13.0], \"y\": [32.099999999999994, 26.0], \"type\": \"scatter\", \"uid\": \"5c90fa98-5bd9-11e9-987d-373b1f4a120b\"}, {\"marker\": {\"color\": \"red\"}, \"mode\": \"lines\", \"name\": \"error at 46.0\", \"x\": [46.0, 46.0], \"y\": [88.2, 13.0], \"type\": \"scatter\", \"uid\": \"5c90fb2e-5bd9-11e9-987d-373b1f4a120b\"}, {\"marker\": {\"color\": \"red\"}, \"mode\": \"lines\", \"name\": \"error at 20.0\", \"x\": [20.0, 20.0], \"y\": [44.0, 53.0], \"type\": \"scatter\", \"uid\": \"5c90fbb0-5bd9-11e9-987d-373b1f4a120b\"}, {\"marker\": {\"color\": \"red\"}, \"mode\": \"lines\", \"name\": \"error at 61.0\", \"x\": [61.0, 61.0], \"y\": [113.7, 76.0], \"type\": \"scatter\", \"uid\": \"5c90fc32-5bd9-11e9-987d-373b1f4a120b\"}, {\"marker\": {\"color\": \"red\"}, \"mode\": \"lines\", \"name\": \"error at 40.0\", \"x\": [40.0, 40.0], \"y\": [78.0, 95.0], \"type\": \"scatter\", \"uid\": \"5c90fcb4-5bd9-11e9-987d-373b1f4a120b\"}, {\"marker\": {\"color\": \"red\"}, \"mode\": \"lines\", \"name\": \"error at 225.0\", \"x\": [225.0, 225.0], \"y\": [392.5, 38.0], \"type\": \"scatter\", \"uid\": \"5c90fd2c-5bd9-11e9-987d-373b1f4a120b\"}, {\"marker\": {\"color\": \"red\"}, \"mode\": \"lines\", \"name\": \"error at 92.0\", \"x\": [92.0, 92.0], \"y\": [166.4, 67.0], \"type\": \"scatter\", \"uid\": \"5c90fda4-5bd9-11e9-987d-373b1f4a120b\"}, {\"marker\": {\"color\": \"red\"}, \"mode\": \"lines\", \"name\": \"error at 12.0\", \"x\": [12.0, 12.0], \"y\": [30.4, 15.0], \"type\": \"scatter\", \"uid\": \"5c90fe26-5bd9-11e9-987d-373b1f4a120b\"}, {\"marker\": {\"color\": \"red\"}, \"mode\": \"lines\", \"name\": \"error at 130.0\", \"x\": [130.0, 130.0], \"y\": [231.0, 61.0], \"type\": \"scatter\", \"uid\": \"5c90fe9e-5bd9-11e9-987d-373b1f4a120b\"}, {\"marker\": {\"color\": \"red\"}, \"mode\": \"lines\", \"name\": \"error at 25.0\", \"x\": [25.0, 25.0], \"y\": [52.5, 37.0], \"type\": \"scatter\", \"uid\": \"5c90ff16-5bd9-11e9-987d-373b1f4a120b\"}, {\"marker\": {\"color\": \"red\"}, \"mode\": \"lines\", \"name\": \"error at 50.0\", \"x\": [50.0, 50.0], \"y\": [95.0, 19.0], \"type\": \"scatter\", \"uid\": \"5c90ff8e-5bd9-11e9-987d-373b1f4a120b\"}, {\"marker\": {\"color\": \"red\"}, \"mode\": \"lines\", \"name\": \"error at 18.0\", \"x\": [18.0, 18.0], \"y\": [40.599999999999994, 33.0], \"type\": \"scatter\", \"uid\": \"5c910010-5bd9-11e9-987d-373b1f4a120b\"}, {\"marker\": {\"color\": \"red\"}, \"mode\": \"lines\", \"name\": \"error at 55.0\", \"x\": [55.0, 55.0], \"y\": [103.5, 107.0], \"type\": \"scatter\", \"uid\": \"5c910088-5bd9-11e9-987d-373b1f4a120b\"}, {\"marker\": {\"color\": \"red\"}, \"mode\": \"lines\", \"name\": \"error at 30.0\", \"x\": [30.0, 30.0], \"y\": [61.0, 35.0], \"type\": \"scatter\", \"uid\": \"5c910100-5bd9-11e9-987d-373b1f4a120b\"}, {\"marker\": {\"color\": \"red\"}, \"mode\": \"lines\", \"name\": \"error at 78.0\", \"x\": [78.0, 78.0], \"y\": [142.6, 120.0], \"type\": \"scatter\", \"uid\": \"5c91016e-5bd9-11e9-987d-373b1f4a120b\"}, {\"marker\": {\"color\": \"red\"}, \"mode\": \"lines\", \"name\": \"error at 76.0\", \"x\": [76.0, 76.0], \"y\": [139.2, 368.0], \"type\": \"scatter\", \"uid\": \"5c9101e6-5bd9-11e9-987d-373b1f4a120b\"}, {\"marker\": {\"color\": \"red\"}, \"mode\": \"lines\", \"name\": \"error at 6.0\", \"x\": [6.0, 6.0], \"y\": [20.2, 24.0], \"type\": \"scatter\", \"uid\": \"5c910254-5bd9-11e9-987d-373b1f4a120b\"}, {\"marker\": {\"color\": \"red\"}, \"mode\": \"lines\", \"name\": \"error at 120.0\", \"x\": [120.0, 120.0], \"y\": [214.0, 93.0], \"type\": \"scatter\", \"uid\": \"5c9102cc-5bd9-11e9-987d-373b1f4a120b\"}, {\"marker\": {\"color\": \"red\"}, \"mode\": \"lines\", \"name\": \"error at 110.0\", \"x\": [110.0, 110.0], \"y\": [197.0, 62.0], \"type\": \"scatter\", \"uid\": \"5c91033a-5bd9-11e9-987d-373b1f4a120b\"}, {\"marker\": {\"color\": \"red\"}, \"mode\": \"lines\", \"name\": \"error at 100.0\", \"x\": [100.0, 100.0], \"y\": [180.0, 108.0], \"type\": \"scatter\", \"uid\": \"5c9103a8-5bd9-11e9-987d-373b1f4a120b\"}, {\"marker\": {\"color\": \"red\"}, \"mode\": \"lines\", \"name\": \"error at 70.0\", \"x\": [70.0, 70.0], \"y\": [129.0, 25.0], \"type\": \"scatter\", \"uid\": \"5c910420-5bd9-11e9-987d-373b1f4a120b\"}, {\"marker\": {\"color\": \"red\"}, \"mode\": \"lines\", \"name\": \"error at 17.0\", \"x\": [17.0, 17.0], \"y\": [38.9, 54.0], \"type\": \"scatter\", \"uid\": \"5c9104ac-5bd9-11e9-987d-373b1f4a120b\"}, {\"marker\": {\"color\": \"red\"}, \"mode\": \"lines\", \"name\": \"error at 160.0\", \"x\": [160.0, 160.0], \"y\": [282.0, 239.0], \"type\": \"scatter\", \"uid\": \"5c91051a-5bd9-11e9-987d-373b1f4a120b\"}, {\"marker\": {\"color\": \"red\"}, \"mode\": \"lines\", \"name\": \"error at 150.0\", \"x\": [150.0, 150.0], \"y\": [265.0, 393.0], \"type\": \"scatter\", \"uid\": \"5c910592-5bd9-11e9-987d-373b1f4a120b\"}, {\"marker\": {\"color\": \"red\"}, \"mode\": \"lines\", \"name\": \"error at 140.0\", \"x\": [140.0, 140.0], \"y\": [248.0, 123.0], \"type\": \"scatter\", \"uid\": \"5c910600-5bd9-11e9-987d-373b1f4a120b\"}, {\"marker\": {\"color\": \"red\"}, \"mode\": \"lines\", \"name\": \"error at 60.0\", \"x\": [60.0, 60.0], \"y\": [112.0, 46.0], \"type\": \"scatter\", \"uid\": \"5c91066e-5bd9-11e9-987d-373b1f4a120b\"}, {\"marker\": {\"color\": \"red\"}, \"mode\": \"lines\", \"name\": \"error at 80.0\", \"x\": [80.0, 80.0], \"y\": [146.0, 134.0], \"type\": \"scatter\", \"uid\": \"5c9106dc-5bd9-11e9-987d-373b1f4a120b\"}, {\"marker\": {\"color\": \"red\"}, \"mode\": \"lines\", \"name\": \"error at 23.0\", \"x\": [23.0, 23.0], \"y\": [49.1, 25.0], \"type\": \"scatter\", \"uid\": \"5c91074a-5bd9-11e9-987d-373b1f4a120b\"}, {\"marker\": {\"color\": \"red\"}, \"mode\": \"lines\", \"name\": \"error at 35.0\", \"x\": [35.0, 35.0], \"y\": [69.5, 135.0], \"type\": \"scatter\", \"uid\": \"5c9107c2-5bd9-11e9-987d-373b1f4a120b\"}, {\"marker\": {\"color\": \"red\"}, \"mode\": \"lines\", \"name\": \"error at 200.0\", \"x\": [200.0, 200.0], \"y\": [350.0, 409.0], \"type\": \"scatter\", \"uid\": \"5c910830-5bd9-11e9-987d-373b1f4a120b\"}], {}, {\"showLink\": true, \"linkText\": \"Export to plot.ly\"})});</script>"
      ]
     },
     "metadata": {},
     "output_type": "display_data"
    }
   ],
   "source": [
    "from plotly.offline import iplot, init_notebook_mode\n",
    "init_notebook_mode(connected=True)\n",
    "\n",
    "from graph import trace_values, m_b_trace, plot\n",
    "\n",
    "if x_values and y_values:\n",
    "    movies_trace = trace_values(x_values, y_values, text=titles, name='movie data')\n",
    "    regression_trace = m_b_trace(1.7, 10, x_values, name='estimated revenue')\n",
    "    plot([movies_trace, regression_trace, *errors_for_regression])"
   ]
  },
  {
   "cell_type": "markdown",
   "metadata": {},
   "source": [
    "> Don't worry about some of the points that don't have associated error lines.  It is a complication with Plotly and not our functions."
   ]
  },
  {
   "cell_type": "markdown",
   "metadata": {},
   "source": [
    "### Calculating RSS"
   ]
  },
  {
   "cell_type": "markdown",
   "metadata": {},
   "source": [
    "Now write a function called `squared_error`, that given a value of x, returns the squared error at that x value.\n",
    "\n",
    "${\\varepsilon_i}^2 =  (y_i - \\hat{y}_i)^2$"
   ]
  },
  {
   "cell_type": "code",
   "execution_count": 78,
   "metadata": {},
   "outputs": [],
   "source": [
    "def squared_error(x_values, y_values, m, b, x):\n",
    "    return pow(error(x_values, y_values, m, b, x), 2)"
   ]
  },
  {
   "cell_type": "code",
   "execution_count": 79,
   "metadata": {},
   "outputs": [
    {
     "data": {
      "text/plain": [
       "37.20999999999993"
      ]
     },
     "execution_count": 79,
     "metadata": {},
     "output_type": "execute_result"
    }
   ],
   "source": [
    "x_values and y_values and squared_error(x_values, y_values, 1.7, 10, x_values[0]) # 37.20999999999993"
   ]
  },
  {
   "cell_type": "markdown",
   "metadata": {},
   "source": [
    "Now write a function that will iterate through the x and y values to create a list of squared errors at each point, $(x_i, y_i)$ of the dataset."
   ]
  },
  {
   "cell_type": "code",
   "execution_count": 80,
   "metadata": {},
   "outputs": [],
   "source": [
    "def squared_errors(x_values, y_values, m, b):\n",
    "    return [squared_error(x_values, y_values, m, b, x) for x in x_values]"
   ]
  },
  {
   "cell_type": "code",
   "execution_count": 81,
   "metadata": {
    "scrolled": true
   },
   "outputs": [
    {
     "data": {
      "text/plain": [
       "[37.20999999999993,\n",
       " 5655.040000000001,\n",
       " 81.0,\n",
       " 1421.2900000000002,\n",
       " 289.0,\n",
       " 125670.25,\n",
       " 9880.36,\n",
       " 237.15999999999997,\n",
       " 28900.0,\n",
       " 240.25,\n",
       " 5776.0,\n",
       " 57.75999999999991,\n",
       " 12.25,\n",
       " 676.0,\n",
       " 510.75999999999976,\n",
       " 52349.44,\n",
       " 14.440000000000005,\n",
       " 14641.0,\n",
       " 18225.0,\n",
       " 5184.0,\n",
       " 10816.0,\n",
       " 228.01000000000005,\n",
       " 1849.0,\n",
       " 16384.0,\n",
       " 15625.0,\n",
       " 4356.0,\n",
       " 144.0,\n",
       " 580.8100000000001,\n",
       " 4290.25,\n",
       " 3481.0]"
      ]
     },
     "execution_count": 81,
     "metadata": {},
     "output_type": "execute_result"
    }
   ],
   "source": [
    "x_values and y_values and squared_errors(x_values, y_values, 1.7, 10)"
   ]
  },
  {
   "cell_type": "markdown",
   "metadata": {},
   "source": [
    "Next, write a function called `residual_sum_squares` that, provided a list of x_values, y_values, and the m and b values of a regression line, returns the sum of the squared error for the movies in our dataset."
   ]
  },
  {
   "cell_type": "code",
   "execution_count": 82,
   "metadata": {},
   "outputs": [],
   "source": [
    "def residual_sum_squares(x_values, y_values, m, b):\n",
    "    return sum(squared_errors(x_values, y_values, m, b))"
   ]
  },
  {
   "cell_type": "code",
   "execution_count": 83,
   "metadata": {},
   "outputs": [
    {
     "data": {
      "text/plain": [
       "327612.2800000001"
      ]
     },
     "execution_count": 83,
     "metadata": {},
     "output_type": "execute_result"
    }
   ],
   "source": [
    "residual_sum_squares(x_values, y_values, 1.7, 10) # 327612.2800000001"
   ]
  },
  {
   "cell_type": "markdown",
   "metadata": {},
   "source": [
    "Finally, write a function called `root_mean_squared_error` that calculates the RMSE for the movies in the dataset, provided the same parameters as RSS.  Remember that `root_mean_squared_error` is a way for us to measure the approximate error per data point."
   ]
  },
  {
   "cell_type": "code",
   "execution_count": 84,
   "metadata": {},
   "outputs": [],
   "source": [
    "import math\n",
    "def root_mean_squared_error(x_values, y_values, m, b):\n",
    "    return (math.sqrt(residual_sum_squares(x_values, y_values, m, b)))/len(x_values)"
   ]
  },
  {
   "cell_type": "code",
   "execution_count": 85,
   "metadata": {},
   "outputs": [
    {
     "data": {
      "text/plain": [
       "19.07914160659343"
      ]
     },
     "execution_count": 85,
     "metadata": {},
     "output_type": "execute_result"
    }
   ],
   "source": [
    "root_mean_squared_error(x_values, y_values, 1.7, 10) # 19.07914160659343"
   ]
  },
  {
   "cell_type": "markdown",
   "metadata": {},
   "source": [
    "#### Some functions for your understanding"
   ]
  },
  {
   "cell_type": "markdown",
   "metadata": {},
   "source": [
    "Now we'll provide a couple functions for you.  Note that we can represent multiple regression lines by a list of m and b values:"
   ]
  },
  {
   "cell_type": "code",
   "execution_count": 86,
   "metadata": {},
   "outputs": [],
   "source": [
    "regression_lines = [(1.7, 10), (1.9, 20)]"
   ]
  },
  {
   "cell_type": "markdown",
   "metadata": {},
   "source": [
    "Then we can return a list of the regression lines along with the associated RMSE."
   ]
  },
  {
   "cell_type": "code",
   "execution_count": 88,
   "metadata": {},
   "outputs": [],
   "source": [
    "def root_mean_squared_errors(x_values, y_values, regression_lines):\n",
    "    errors = []\n",
    "    for regression_line in regression_lines:\n",
    "        error = root_mean_squared_error(x_values, y_values, regression_line[0], regression_line[1])\n",
    "        errors.append([regression_line[0], regression_line[1], round(error, 0)])\n",
    "    return errors"
   ]
  },
  {
   "cell_type": "markdown",
   "metadata": {},
   "source": [
    "Now let's generate the RMSE values for each of these lines."
   ]
  },
  {
   "cell_type": "code",
   "execution_count": 89,
   "metadata": {},
   "outputs": [
    {
     "data": {
      "text/plain": [
       "[[1.7, 10, 19.0], [1.9, 20, 19.0]]"
      ]
     },
     "execution_count": 89,
     "metadata": {},
     "output_type": "execute_result"
    }
   ],
   "source": [
    "x_values and y_values and root_mean_squared_errors(x_values, y_values, regression_lines)"
   ]
  },
  {
   "cell_type": "markdown",
   "metadata": {},
   "source": [
    "Now we'll provide a couple functions for you:\n",
    "* a function called `trace_rmse`, that builds a bar chart displaying the value of the RMSE.  The return value is a dictionary with keys of `x` and `y`, both which point to lists.  The $x$ key points to a list with one element, a string containing each regression line's m and b value.  The $y$ key points to a list of the RMSE values for each corresponding regression line."
   ]
  },
  {
   "cell_type": "code",
   "execution_count": null,
   "metadata": {},
   "outputs": [],
   "source": [
    "import plotly.graph_objs as go\n",
    "\n",
    "def trace_rmse(x_values, y_values, regression_lines):\n",
    "    errors = root_mean_squared_errors(x_values, y_values, regression_lines)\n",
    "    x_values_bar = list(map(lambda error: 'm: ' + str(error[0]) + ' b: ' + str(error[1]), errors))\n",
    "    y_values_bar = list(map(lambda error: error[-1], errors))\n",
    "    return dict(\n",
    "        x=x_values_bar,\n",
    "        y=y_values_bar,\n",
    "        type='bar'\n",
    "    )\n",
    "\n",
    "\n",
    "x_values and y_values and trace_rmse(x_values, y_values, regression_lines)"
   ]
  },
  {
   "cell_type": "markdown",
   "metadata": {},
   "source": [
    "Once this is built, we can create a subplot showing the two regression lines, as well as the related RMSE for each line."
   ]
  },
  {
   "cell_type": "code",
   "execution_count": null,
   "metadata": {},
   "outputs": [],
   "source": [
    "import plotly\n",
    "from plotly.offline import iplot\n",
    "from plotly import tools\n",
    "import plotly.graph_objs as go\n",
    "\n",
    "def regression_and_rss(scatter_trace, regression_traces, rss_calc_trace):\n",
    "    fig = tools.make_subplots(rows=1, cols=2)\n",
    "    for reg_trace in regression_traces:\n",
    "        fig.append_trace(reg_trace, 1, 1)\n",
    "    fig.append_trace(scatter_trace, 1, 1)\n",
    "    fig.append_trace(rss_calc_trace, 1, 2)\n",
    "    iplot(fig)"
   ]
  },
  {
   "cell_type": "code",
   "execution_count": null,
   "metadata": {},
   "outputs": [],
   "source": [
    "### add more regression lines here, by adding new elements to the list\n",
    "regression_lines = [(1.7, 10), (1, 50)]\n",
    "\n",
    "if x_values and y_values:\n",
    "    regression_traces = list(map(lambda line: m_b_trace(line[0], line[1], x_values, name='m:' + str(line[0]) + 'b: ' + str(line[1])), regression_lines))\n",
    "\n",
    "    scatter_trace = trace_values(x_values, y_values, text=titles, name='movie data')\n",
    "    rmse_calc_trace = trace_rmse(x_values, y_values, regression_lines)\n",
    "\n",
    "    regression_and_rss(scatter_trace, regression_traces, rmse_calc_trace)"
   ]
  },
  {
   "cell_type": "markdown",
   "metadata": {},
   "source": [
    "As we can see above, the second line (m: 1.0, b: 50) has the lower RMSE. We thus can conclude that the second line \"fits\" our set of movie data better than the first line. Ultimately, our goal will be to choose the regression line with the lowest RSME or RSS. We will learn how to accomplish this goal in the following lessons and labs."
   ]
  }
 ],
 "metadata": {
  "kernelspec": {
   "display_name": "Python 3",
   "language": "python",
   "name": "python3"
  },
  "language_info": {
   "codemirror_mode": {
    "name": "ipython",
    "version": 3
   },
   "file_extension": ".py",
   "mimetype": "text/x-python",
   "name": "python",
   "nbconvert_exporter": "python",
   "pygments_lexer": "ipython3",
   "version": "3.6.6"
  }
 },
 "nbformat": 4,
 "nbformat_minor": 2
}
